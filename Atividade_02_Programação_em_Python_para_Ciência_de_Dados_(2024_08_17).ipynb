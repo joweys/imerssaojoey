{
  "nbformat": 4,
  "nbformat_minor": 0,
  "metadata": {
    "colab": {
      "provenance": [],
      "authorship_tag": "ABX9TyOTjfK9k17l3GJSI2WENP8C",
      "include_colab_link": true
    },
    "kernelspec": {
      "name": "python3",
      "display_name": "Python 3"
    },
    "language_info": {
      "name": "python"
    }
  },
  "cells": [
    {
      "cell_type": "markdown",
      "metadata": {
        "id": "view-in-github",
        "colab_type": "text"
      },
      "source": [
        "<a href=\"https://colab.research.google.com/github/joweys/imerssaojoey/blob/master/Atividade_02_Programa%C3%A7%C3%A3o_em_Python_para_Ci%C3%AAncia_de_Dados_(2024_08_17).ipynb\" target=\"_parent\"><img src=\"https://colab.research.google.com/assets/colab-badge.svg\" alt=\"Open In Colab\"/></a>"
      ]
    },
    {
      "cell_type": "markdown",
      "source": [
        "Atividade 02\n",
        "\n",
        "25 pontos\n",
        "\n",
        "1) Carregar planilha para um DataFrame;\n",
        "\n",
        "2) Excluir linhas com valores nulos;\n",
        "\n",
        "3) Identificar o(s) vendedor(es) com menor venda escrevendo \"DEMITIRRRRR\" no campo \"Observação\";\n",
        "\n",
        "4) Identificar o(s) vendedor(es) com maior venda escrevendo \"PARABÉNS!\" no campo \"Observação\";\n",
        "\n",
        "5) Bonificar os funcionários da região sul com R$ 1.000,00;\n",
        "\n",
        "6) Bonificar o(s) funcionário(s) maior venda com R$ 10.000,00;\n",
        "\n",
        "7) Bonificar os funcionários com 2% da própria venda;"
      ],
      "metadata": {
        "id": "yeaLlodpenIi"
      }
    },
    {
      "cell_type": "markdown",
      "source": [
        "**01 - Carregar planilha para um DataFrame**"
      ],
      "metadata": {
        "id": "gV89qj_FKOoU"
      }
    },
    {
      "cell_type": "code",
      "execution_count": 2,
      "metadata": {
        "colab": {
          "base_uri": "https://localhost:8080/",
          "height": 177
        },
        "id": "sB9ute_mehad",
        "outputId": "2115ff33-660d-49e3-d33b-aebcc8e26aad"
      },
      "outputs": [
        {
          "output_type": "display_data",
          "data": {
            "text/plain": [
              "<IPython.core.display.HTML object>"
            ],
            "text/html": [
              "\n",
              "     <input type=\"file\" id=\"files-582c3550-6ad6-472e-b94c-3724b134a1d8\" name=\"files[]\" multiple disabled\n",
              "        style=\"border:none\" />\n",
              "     <output id=\"result-582c3550-6ad6-472e-b94c-3724b134a1d8\">\n",
              "      Upload widget is only available when the cell has been executed in the\n",
              "      current browser session. Please rerun this cell to enable.\n",
              "      </output>\n",
              "      <script>// Copyright 2017 Google LLC\n",
              "//\n",
              "// Licensed under the Apache License, Version 2.0 (the \"License\");\n",
              "// you may not use this file except in compliance with the License.\n",
              "// You may obtain a copy of the License at\n",
              "//\n",
              "//      http://www.apache.org/licenses/LICENSE-2.0\n",
              "//\n",
              "// Unless required by applicable law or agreed to in writing, software\n",
              "// distributed under the License is distributed on an \"AS IS\" BASIS,\n",
              "// WITHOUT WARRANTIES OR CONDITIONS OF ANY KIND, either express or implied.\n",
              "// See the License for the specific language governing permissions and\n",
              "// limitations under the License.\n",
              "\n",
              "/**\n",
              " * @fileoverview Helpers for google.colab Python module.\n",
              " */\n",
              "(function(scope) {\n",
              "function span(text, styleAttributes = {}) {\n",
              "  const element = document.createElement('span');\n",
              "  element.textContent = text;\n",
              "  for (const key of Object.keys(styleAttributes)) {\n",
              "    element.style[key] = styleAttributes[key];\n",
              "  }\n",
              "  return element;\n",
              "}\n",
              "\n",
              "// Max number of bytes which will be uploaded at a time.\n",
              "const MAX_PAYLOAD_SIZE = 100 * 1024;\n",
              "\n",
              "function _uploadFiles(inputId, outputId) {\n",
              "  const steps = uploadFilesStep(inputId, outputId);\n",
              "  const outputElement = document.getElementById(outputId);\n",
              "  // Cache steps on the outputElement to make it available for the next call\n",
              "  // to uploadFilesContinue from Python.\n",
              "  outputElement.steps = steps;\n",
              "\n",
              "  return _uploadFilesContinue(outputId);\n",
              "}\n",
              "\n",
              "// This is roughly an async generator (not supported in the browser yet),\n",
              "// where there are multiple asynchronous steps and the Python side is going\n",
              "// to poll for completion of each step.\n",
              "// This uses a Promise to block the python side on completion of each step,\n",
              "// then passes the result of the previous step as the input to the next step.\n",
              "function _uploadFilesContinue(outputId) {\n",
              "  const outputElement = document.getElementById(outputId);\n",
              "  const steps = outputElement.steps;\n",
              "\n",
              "  const next = steps.next(outputElement.lastPromiseValue);\n",
              "  return Promise.resolve(next.value.promise).then((value) => {\n",
              "    // Cache the last promise value to make it available to the next\n",
              "    // step of the generator.\n",
              "    outputElement.lastPromiseValue = value;\n",
              "    return next.value.response;\n",
              "  });\n",
              "}\n",
              "\n",
              "/**\n",
              " * Generator function which is called between each async step of the upload\n",
              " * process.\n",
              " * @param {string} inputId Element ID of the input file picker element.\n",
              " * @param {string} outputId Element ID of the output display.\n",
              " * @return {!Iterable<!Object>} Iterable of next steps.\n",
              " */\n",
              "function* uploadFilesStep(inputId, outputId) {\n",
              "  const inputElement = document.getElementById(inputId);\n",
              "  inputElement.disabled = false;\n",
              "\n",
              "  const outputElement = document.getElementById(outputId);\n",
              "  outputElement.innerHTML = '';\n",
              "\n",
              "  const pickedPromise = new Promise((resolve) => {\n",
              "    inputElement.addEventListener('change', (e) => {\n",
              "      resolve(e.target.files);\n",
              "    });\n",
              "  });\n",
              "\n",
              "  const cancel = document.createElement('button');\n",
              "  inputElement.parentElement.appendChild(cancel);\n",
              "  cancel.textContent = 'Cancel upload';\n",
              "  const cancelPromise = new Promise((resolve) => {\n",
              "    cancel.onclick = () => {\n",
              "      resolve(null);\n",
              "    };\n",
              "  });\n",
              "\n",
              "  // Wait for the user to pick the files.\n",
              "  const files = yield {\n",
              "    promise: Promise.race([pickedPromise, cancelPromise]),\n",
              "    response: {\n",
              "      action: 'starting',\n",
              "    }\n",
              "  };\n",
              "\n",
              "  cancel.remove();\n",
              "\n",
              "  // Disable the input element since further picks are not allowed.\n",
              "  inputElement.disabled = true;\n",
              "\n",
              "  if (!files) {\n",
              "    return {\n",
              "      response: {\n",
              "        action: 'complete',\n",
              "      }\n",
              "    };\n",
              "  }\n",
              "\n",
              "  for (const file of files) {\n",
              "    const li = document.createElement('li');\n",
              "    li.append(span(file.name, {fontWeight: 'bold'}));\n",
              "    li.append(span(\n",
              "        `(${file.type || 'n/a'}) - ${file.size} bytes, ` +\n",
              "        `last modified: ${\n",
              "            file.lastModifiedDate ? file.lastModifiedDate.toLocaleDateString() :\n",
              "                                    'n/a'} - `));\n",
              "    const percent = span('0% done');\n",
              "    li.appendChild(percent);\n",
              "\n",
              "    outputElement.appendChild(li);\n",
              "\n",
              "    const fileDataPromise = new Promise((resolve) => {\n",
              "      const reader = new FileReader();\n",
              "      reader.onload = (e) => {\n",
              "        resolve(e.target.result);\n",
              "      };\n",
              "      reader.readAsArrayBuffer(file);\n",
              "    });\n",
              "    // Wait for the data to be ready.\n",
              "    let fileData = yield {\n",
              "      promise: fileDataPromise,\n",
              "      response: {\n",
              "        action: 'continue',\n",
              "      }\n",
              "    };\n",
              "\n",
              "    // Use a chunked sending to avoid message size limits. See b/62115660.\n",
              "    let position = 0;\n",
              "    do {\n",
              "      const length = Math.min(fileData.byteLength - position, MAX_PAYLOAD_SIZE);\n",
              "      const chunk = new Uint8Array(fileData, position, length);\n",
              "      position += length;\n",
              "\n",
              "      const base64 = btoa(String.fromCharCode.apply(null, chunk));\n",
              "      yield {\n",
              "        response: {\n",
              "          action: 'append',\n",
              "          file: file.name,\n",
              "          data: base64,\n",
              "        },\n",
              "      };\n",
              "\n",
              "      let percentDone = fileData.byteLength === 0 ?\n",
              "          100 :\n",
              "          Math.round((position / fileData.byteLength) * 100);\n",
              "      percent.textContent = `${percentDone}% done`;\n",
              "\n",
              "    } while (position < fileData.byteLength);\n",
              "  }\n",
              "\n",
              "  // All done.\n",
              "  yield {\n",
              "    response: {\n",
              "      action: 'complete',\n",
              "    }\n",
              "  };\n",
              "}\n",
              "\n",
              "scope.google = scope.google || {};\n",
              "scope.google.colab = scope.google.colab || {};\n",
              "scope.google.colab._files = {\n",
              "  _uploadFiles,\n",
              "  _uploadFilesContinue,\n",
              "};\n",
              "})(self);\n",
              "</script> "
            ]
          },
          "metadata": {}
        },
        {
          "output_type": "stream",
          "name": "stdout",
          "text": [
            "Saving funcionarios.xlsx to funcionarios (6).xlsx\n",
            "             Nome          Cidade  Salário     Venda  Bonificação Observação\n",
            "0  Agatha Cardoso         Vitória  2280.24  12876.32            0         ok\n",
            "1  Agatha da Rosa        Curitiba  2704.25  30621.04            0         ok\n",
            "2  Agatha da Rosa       Fortaleza  2642.51  25603.26            0         ok\n",
            "3    Agatha Pinto  Belo Horizonte  2270.10  21275.48            0         ok\n",
            "4   Alana Cardoso     João Pessoa  2346.50  42299.38            0         ok\n"
          ]
        }
      ],
      "source": [
        "from google.colab import files\n",
        "import pandas as pd\n",
        "import io\n",
        "\n",
        "#1: Carregar o arquivo Excel usando files.upload()\n",
        "uploaded = files.upload()\n",
        "\n",
        "#2: Obter o nome do arquivo carregado\n",
        "file_name = next(iter(uploaded.keys()))\n",
        "\n",
        "#3: Ler o arquivo Excel em um DataFrame (não usando diretamente o DataFrame)\n",
        "data = pd.read_excel(io.BytesIO(uploaded[file_name]))\n",
        "\n",
        "#4: Criar um DataFrame explicitamente (se necessário)\n",
        "df = pd.DataFrame(data)\n",
        "\n",
        "#5: Exibir as primeiras linhas do DataFrame para verificar\n",
        "print(df.head())"
      ]
    },
    {
      "cell_type": "markdown",
      "source": [],
      "metadata": {
        "id": "cNJUDkxKKeod"
      }
    },
    {
      "cell_type": "markdown",
      "source": [
        "**2 - Excluir linhas com valores nulos;**\n"
      ],
      "metadata": {
        "id": "OANKJV7zLEJh"
      }
    },
    {
      "cell_type": "code",
      "source": [
        "# Excluir linhas com qualquer valor nulo\n",
        "df_sem_nulos = df.dropna()\n",
        "\n",
        "# Exibir o DataFrame resultante\n",
        "print(df_sem_nulos)"
      ],
      "metadata": {
        "id": "B18tMAmfK_8S",
        "colab": {
          "base_uri": "https://localhost:8080/"
        },
        "outputId": "05ef1a61-aa47-473d-ff61-e739229456a4"
      },
      "execution_count": 3,
      "outputs": [
        {
          "output_type": "stream",
          "name": "stdout",
          "text": [
            "                 Nome          Cidade  Salário     Venda  Bonificação  \\\n",
            "0      Agatha Cardoso         Vitória  2280.24  12876.32            0   \n",
            "1      Agatha da Rosa        Curitiba  2704.25  30621.04            0   \n",
            "2      Agatha da Rosa       Fortaleza  2642.51  25603.26            0   \n",
            "3        Agatha Pinto  Belo Horizonte  2270.10  21275.48            0   \n",
            "4       Alana Cardoso     João Pessoa  2346.50  42299.38            0   \n",
            "...               ...             ...      ...       ...          ...   \n",
            "1309     Yuri da Mota          Macapá  2779.59  40548.41            0   \n",
            "1310      Yuri Moraes        Salvador  2603.20  30070.43            0   \n",
            "1311     Yuri Rezende        Salvador  2046.61  29241.67            0   \n",
            "1312      Yuri Santos          Macapá  2576.99  37180.30            0   \n",
            "1313  Vitória da Mota          Maceió  2701.49  48748.44            0   \n",
            "\n",
            "     Observação  \n",
            "0            ok  \n",
            "1            ok  \n",
            "2            ok  \n",
            "3            ok  \n",
            "4            ok  \n",
            "...         ...  \n",
            "1309         ok  \n",
            "1310         ok  \n",
            "1311         ok  \n",
            "1312         ok  \n",
            "1313         ok  \n",
            "\n",
            "[1311 rows x 6 columns]\n"
          ]
        }
      ]
    },
    {
      "cell_type": "markdown",
      "source": [
        "**3) Identificar o(s) vendedor(es) com menor venda escrevendo \"DEMITIRRRRR\" no campo \"Observação\";**"
      ],
      "metadata": {
        "id": "7xbxfx0XNJKb"
      }
    },
    {
      "cell_type": "code",
      "source": [
        "# Identificar o índice da linha com o menor valor na coluna \"Venda\"\n",
        "indice_menor_venda = df_sem_nulos['Venda'].idxmin()\n",
        "\n",
        "# Inserir o texto \"DEMITIRRRRR\" no campo \"Observação\" correspondente\n",
        "df_sem_nulos.at[indice_menor_venda, 'Observação'] = 'DEMITIRRRRR'\n",
        "\n",
        "# Exibir o DataFrame resultante\n",
        "print(df_sem_nulos)"
      ],
      "metadata": {
        "colab": {
          "base_uri": "https://localhost:8080/"
        },
        "id": "_bqBy_3nNPQy",
        "outputId": "9bcf29c2-d615-4fd6-e2ed-5690b77098fe"
      },
      "execution_count": 4,
      "outputs": [
        {
          "output_type": "stream",
          "name": "stdout",
          "text": [
            "                 Nome          Cidade  Salário     Venda  Bonificação  \\\n",
            "0      Agatha Cardoso         Vitória  2280.24  12876.32            0   \n",
            "1      Agatha da Rosa        Curitiba  2704.25  30621.04            0   \n",
            "2      Agatha da Rosa       Fortaleza  2642.51  25603.26            0   \n",
            "3        Agatha Pinto  Belo Horizonte  2270.10  21275.48            0   \n",
            "4       Alana Cardoso     João Pessoa  2346.50  42299.38            0   \n",
            "...               ...             ...      ...       ...          ...   \n",
            "1309     Yuri da Mota          Macapá  2779.59  40548.41            0   \n",
            "1310      Yuri Moraes        Salvador  2603.20  30070.43            0   \n",
            "1311     Yuri Rezende        Salvador  2046.61  29241.67            0   \n",
            "1312      Yuri Santos          Macapá  2576.99  37180.30            0   \n",
            "1313  Vitória da Mota          Maceió  2701.49  48748.44            0   \n",
            "\n",
            "     Observação  \n",
            "0            ok  \n",
            "1            ok  \n",
            "2            ok  \n",
            "3            ok  \n",
            "4            ok  \n",
            "...         ...  \n",
            "1309         ok  \n",
            "1310         ok  \n",
            "1311         ok  \n",
            "1312         ok  \n",
            "1313         ok  \n",
            "\n",
            "[1311 rows x 6 columns]\n"
          ]
        }
      ]
    },
    {
      "cell_type": "markdown",
      "source": [
        "**4) Identificar o(s) vendedor(es) com maior venda escrevendo \"PARABÉNS!\" no campo \"Observação\";**"
      ],
      "metadata": {
        "id": "P31nnwdrOL_U"
      }
    },
    {
      "cell_type": "code",
      "source": [
        "# Identificar o índice da linha com o maior valor na coluna \"Venda\"\n",
        "indice_maior_venda = df_sem_nulos['Venda'].idxmax()\n",
        "\n",
        "# Inserir o texto \"PARABÉNS\" no campo \"Observação\" correspondente\n",
        "df_sem_nulos.at[indice_maior_venda, 'Observação'] = 'PARABÉNS'\n",
        "\n",
        "# Exibir o DataFrame resultante\n",
        "print(df_sem_nulos)\n"
      ],
      "metadata": {
        "colab": {
          "base_uri": "https://localhost:8080/"
        },
        "id": "PscR47YNOPSL",
        "outputId": "397e96ce-d153-48be-ee6c-3ccd22479f9e"
      },
      "execution_count": 5,
      "outputs": [
        {
          "output_type": "stream",
          "name": "stdout",
          "text": [
            "                 Nome          Cidade  Salário     Venda  Bonificação  \\\n",
            "0      Agatha Cardoso         Vitória  2280.24  12876.32            0   \n",
            "1      Agatha da Rosa        Curitiba  2704.25  30621.04            0   \n",
            "2      Agatha da Rosa       Fortaleza  2642.51  25603.26            0   \n",
            "3        Agatha Pinto  Belo Horizonte  2270.10  21275.48            0   \n",
            "4       Alana Cardoso     João Pessoa  2346.50  42299.38            0   \n",
            "...               ...             ...      ...       ...          ...   \n",
            "1309     Yuri da Mota          Macapá  2779.59  40548.41            0   \n",
            "1310      Yuri Moraes        Salvador  2603.20  30070.43            0   \n",
            "1311     Yuri Rezende        Salvador  2046.61  29241.67            0   \n",
            "1312      Yuri Santos          Macapá  2576.99  37180.30            0   \n",
            "1313  Vitória da Mota          Maceió  2701.49  48748.44            0   \n",
            "\n",
            "     Observação  \n",
            "0            ok  \n",
            "1            ok  \n",
            "2            ok  \n",
            "3            ok  \n",
            "4            ok  \n",
            "...         ...  \n",
            "1309         ok  \n",
            "1310         ok  \n",
            "1311         ok  \n",
            "1312         ok  \n",
            "1313         ok  \n",
            "\n",
            "[1311 rows x 6 columns]\n"
          ]
        }
      ]
    },
    {
      "cell_type": "markdown",
      "source": [
        "**5) Bonificar os funcionários da região sul com R$ 1.000,00;**"
      ],
      "metadata": {
        "id": "hjDs-nTuOrqN"
      }
    },
    {
      "cell_type": "code",
      "source": [
        "# Lista das cidades a serem bonificadas\n",
        "cidades_a_bonificar = ['Curitiba', 'Florianópolis', 'Porto Alegre']\n",
        "\n",
        "# Somar 1000 ao valor existente no campo \"Bonificação\" onde a \"Cidade\" está na lista\n",
        "df_sem_nulos.loc[df_sem_nulos['Cidade'].isin(cidades_a_bonificar), 'Bonificação'] += 1000\n",
        "\n",
        "# Exibir o DataFrame resultante\n",
        "print(df_sem_nulos)"
      ],
      "metadata": {
        "colab": {
          "base_uri": "https://localhost:8080/"
        },
        "id": "Zt9SNNbROtOl",
        "outputId": "3816a5e5-12a8-478a-cdb4-8f52dd89729d"
      },
      "execution_count": 6,
      "outputs": [
        {
          "output_type": "stream",
          "name": "stdout",
          "text": [
            "                 Nome          Cidade  Salário     Venda  Bonificação  \\\n",
            "0      Agatha Cardoso         Vitória  2280.24  12876.32            0   \n",
            "1      Agatha da Rosa        Curitiba  2704.25  30621.04         1000   \n",
            "2      Agatha da Rosa       Fortaleza  2642.51  25603.26            0   \n",
            "3        Agatha Pinto  Belo Horizonte  2270.10  21275.48            0   \n",
            "4       Alana Cardoso     João Pessoa  2346.50  42299.38            0   \n",
            "...               ...             ...      ...       ...          ...   \n",
            "1309     Yuri da Mota          Macapá  2779.59  40548.41            0   \n",
            "1310      Yuri Moraes        Salvador  2603.20  30070.43            0   \n",
            "1311     Yuri Rezende        Salvador  2046.61  29241.67            0   \n",
            "1312      Yuri Santos          Macapá  2576.99  37180.30            0   \n",
            "1313  Vitória da Mota          Maceió  2701.49  48748.44            0   \n",
            "\n",
            "     Observação  \n",
            "0            ok  \n",
            "1            ok  \n",
            "2            ok  \n",
            "3            ok  \n",
            "4            ok  \n",
            "...         ...  \n",
            "1309         ok  \n",
            "1310         ok  \n",
            "1311         ok  \n",
            "1312         ok  \n",
            "1313         ok  \n",
            "\n",
            "[1311 rows x 6 columns]\n"
          ]
        }
      ]
    },
    {
      "cell_type": "markdown",
      "source": [
        "**6) Bonificar o(s) funcionário(s) maior venda com R$ 10.000,00;**"
      ],
      "metadata": {
        "id": "QTOcrH8LQPOx"
      }
    },
    {
      "cell_type": "code",
      "source": [
        "# Identificar o índice da linha com o maior valor na coluna \"Venda\"\n",
        "indice_maior_venda = df_sem_nulos['Venda'].idxmax()\n",
        "\n",
        "# Somar 10000 ao valor existente no campo \"Bonificação\" para a entrada identificada\n",
        "df_sem_nulos.at[indice_maior_venda, 'Bonificação'] += 10000\n",
        "\n",
        "# Exibir o DataFrame resultante\n",
        "print(df_sem_nulos)"
      ],
      "metadata": {
        "colab": {
          "base_uri": "https://localhost:8080/"
        },
        "id": "ImXAu9wxQQ0r",
        "outputId": "47cec8c1-29e1-4a5c-b2a5-065ddebc7c4a"
      },
      "execution_count": 7,
      "outputs": [
        {
          "output_type": "stream",
          "name": "stdout",
          "text": [
            "                 Nome          Cidade  Salário     Venda  Bonificação  \\\n",
            "0      Agatha Cardoso         Vitória  2280.24  12876.32            0   \n",
            "1      Agatha da Rosa        Curitiba  2704.25  30621.04         1000   \n",
            "2      Agatha da Rosa       Fortaleza  2642.51  25603.26            0   \n",
            "3        Agatha Pinto  Belo Horizonte  2270.10  21275.48            0   \n",
            "4       Alana Cardoso     João Pessoa  2346.50  42299.38            0   \n",
            "...               ...             ...      ...       ...          ...   \n",
            "1309     Yuri da Mota          Macapá  2779.59  40548.41            0   \n",
            "1310      Yuri Moraes        Salvador  2603.20  30070.43            0   \n",
            "1311     Yuri Rezende        Salvador  2046.61  29241.67            0   \n",
            "1312      Yuri Santos          Macapá  2576.99  37180.30            0   \n",
            "1313  Vitória da Mota          Maceió  2701.49  48748.44            0   \n",
            "\n",
            "     Observação  \n",
            "0            ok  \n",
            "1            ok  \n",
            "2            ok  \n",
            "3            ok  \n",
            "4            ok  \n",
            "...         ...  \n",
            "1309         ok  \n",
            "1310         ok  \n",
            "1311         ok  \n",
            "1312         ok  \n",
            "1313         ok  \n",
            "\n",
            "[1311 rows x 6 columns]\n"
          ]
        }
      ]
    },
    {
      "cell_type": "markdown",
      "source": [
        "**7) Bonificar os funcionários com 2% da própria venda;**"
      ],
      "metadata": {
        "id": "4OF8RX3IRmSv"
      }
    },
    {
      "cell_type": "code",
      "source": [
        "# Calcular 2% dos valores no campo \"Venda\" e arredondar para 2 casas decimais\n",
        "percentual_venda = (df_sem_nulos['Venda'] * 0.02).round(2)\n",
        "\n",
        "# Adicionar os 2% ao valor existente no campo \"Bonificação\" e arredondar para 2 casas decimais\n",
        "df_sem_nulos['Bonificação'] = (df_sem_nulos['Bonificação'] + percentual_venda).round(2)\n",
        "\n",
        "# Exibir o DataFrame resultante\n",
        "print(df_sem_nulos)"
      ],
      "metadata": {
        "colab": {
          "base_uri": "https://localhost:8080/"
        },
        "id": "rkHSVk55Rnod",
        "outputId": "b20335bd-5997-40f5-8749-b4683e266d45"
      },
      "execution_count": 8,
      "outputs": [
        {
          "output_type": "stream",
          "name": "stdout",
          "text": [
            "                 Nome          Cidade  Salário     Venda  Bonificação  \\\n",
            "0      Agatha Cardoso         Vitória  2280.24  12876.32       257.53   \n",
            "1      Agatha da Rosa        Curitiba  2704.25  30621.04      1612.42   \n",
            "2      Agatha da Rosa       Fortaleza  2642.51  25603.26       512.07   \n",
            "3        Agatha Pinto  Belo Horizonte  2270.10  21275.48       425.51   \n",
            "4       Alana Cardoso     João Pessoa  2346.50  42299.38       845.99   \n",
            "...               ...             ...      ...       ...          ...   \n",
            "1309     Yuri da Mota          Macapá  2779.59  40548.41       810.97   \n",
            "1310      Yuri Moraes        Salvador  2603.20  30070.43       601.41   \n",
            "1311     Yuri Rezende        Salvador  2046.61  29241.67       584.83   \n",
            "1312      Yuri Santos          Macapá  2576.99  37180.30       743.61   \n",
            "1313  Vitória da Mota          Maceió  2701.49  48748.44       974.97   \n",
            "\n",
            "     Observação  \n",
            "0            ok  \n",
            "1            ok  \n",
            "2            ok  \n",
            "3            ok  \n",
            "4            ok  \n",
            "...         ...  \n",
            "1309         ok  \n",
            "1310         ok  \n",
            "1311         ok  \n",
            "1312         ok  \n",
            "1313         ok  \n",
            "\n",
            "[1311 rows x 6 columns]\n"
          ]
        },
        {
          "output_type": "stream",
          "name": "stderr",
          "text": [
            "<ipython-input-8-9069b9647d40>:5: SettingWithCopyWarning: \n",
            "A value is trying to be set on a copy of a slice from a DataFrame.\n",
            "Try using .loc[row_indexer,col_indexer] = value instead\n",
            "\n",
            "See the caveats in the documentation: https://pandas.pydata.org/pandas-docs/stable/user_guide/indexing.html#returning-a-view-versus-a-copy\n",
            "  df_sem_nulos['Bonificação'] = (df_sem_nulos['Bonificação'] + percentual_venda).round(2)\n"
          ]
        }
      ]
    },
    {
      "cell_type": "markdown",
      "source": [
        "**Testando resultados: Gerar uma planilha chamada \"df_sem_nulos.xlsx\" com as informações alteradas na atividade. Obs.: Funciona no COLAB**\n",
        "\n",
        "```\n",
        "# Isto está formatado como código\n",
        "```\n",
        "\n"
      ],
      "metadata": {
        "id": "6vplsDyyUTya"
      }
    },
    {
      "cell_type": "code",
      "source": [
        "# Caminho para salvar o arquivo Excel\n",
        "caminho_arquivo = 'df_sem_nulos.xlsx'\n",
        "\n",
        "# Gerar o arquivo Excel com o DataFrame\n",
        "df_sem_nulos.to_excel(caminho_arquivo, index=False)\n",
        "\n",
        "# Fazer o download do arquivo gerado\n",
        "files.download(caminho_arquivo)"
      ],
      "metadata": {
        "colab": {
          "base_uri": "https://localhost:8080/",
          "height": 17
        },
        "id": "kzzlgUqSUWaT",
        "outputId": "23a14d44-dd3e-4e53-ee8f-96d22c42f3a1"
      },
      "execution_count": 9,
      "outputs": [
        {
          "output_type": "display_data",
          "data": {
            "text/plain": [
              "<IPython.core.display.Javascript object>"
            ],
            "application/javascript": [
              "\n",
              "    async function download(id, filename, size) {\n",
              "      if (!google.colab.kernel.accessAllowed) {\n",
              "        return;\n",
              "      }\n",
              "      const div = document.createElement('div');\n",
              "      const label = document.createElement('label');\n",
              "      label.textContent = `Downloading \"${filename}\": `;\n",
              "      div.appendChild(label);\n",
              "      const progress = document.createElement('progress');\n",
              "      progress.max = size;\n",
              "      div.appendChild(progress);\n",
              "      document.body.appendChild(div);\n",
              "\n",
              "      const buffers = [];\n",
              "      let downloaded = 0;\n",
              "\n",
              "      const channel = await google.colab.kernel.comms.open(id);\n",
              "      // Send a message to notify the kernel that we're ready.\n",
              "      channel.send({})\n",
              "\n",
              "      for await (const message of channel.messages) {\n",
              "        // Send a message to notify the kernel that we're ready.\n",
              "        channel.send({})\n",
              "        if (message.buffers) {\n",
              "          for (const buffer of message.buffers) {\n",
              "            buffers.push(buffer);\n",
              "            downloaded += buffer.byteLength;\n",
              "            progress.value = downloaded;\n",
              "          }\n",
              "        }\n",
              "      }\n",
              "      const blob = new Blob(buffers, {type: 'application/binary'});\n",
              "      const a = document.createElement('a');\n",
              "      a.href = window.URL.createObjectURL(blob);\n",
              "      a.download = filename;\n",
              "      div.appendChild(a);\n",
              "      a.click();\n",
              "      div.remove();\n",
              "    }\n",
              "  "
            ]
          },
          "metadata": {}
        },
        {
          "output_type": "display_data",
          "data": {
            "text/plain": [
              "<IPython.core.display.Javascript object>"
            ],
            "application/javascript": [
              "download(\"download_c510ea64-04af-4527-8ac8-ce0f60a1cc23\", \"df_sem_nulos.xlsx\", 60604)"
            ]
          },
          "metadata": {}
        }
      ]
    }
  ]
}